{
 "cells": [
  {
   "cell_type": "code",
   "execution_count": 1,
   "id": "0e0a37b4",
   "metadata": {},
   "outputs": [
    {
     "name": "stdout",
     "output_type": "stream",
     "text": [
      "🚀 Creating dataset...\n",
      "✅ Dataset ready: 430,920 rows\n",
      "✅ Countries: 42\n",
      "\n",
      "📊 First 5 rows:\n",
      "         Date Country  Export_Tons  USD_Price  Season\n",
      "0  2016-02-13  France        23185       6.21  Winter\n",
      "1  2011-09-07  France        36689      10.03  Spring\n",
      "2  2017-09-05     UAE         7224      16.72  Spring\n",
      "3  2010-06-14   China        72467      12.65  Summer\n",
      "4  2010-08-13  Brazil        58887       8.27  Summer\n",
      "\n",
      "💾 File saved: ../data/raw/tunisia_olive_oil_dataset.csv\n"
     ]
    }
   ],
   "source": [
    "import pandas as pd\n",
    "import numpy as np\n",
    "from datetime import datetime, timedelta\n",
    "import random\n",
    "import os\n",
    "\n",
    "np.random.seed(42)\n",
    "random.seed(42)\n",
    "\n",
    "# Create dates (2010-2024, monthly)\n",
    "start_date = datetime(2010, 1, 15)\n",
    "dates = [start_date + timedelta(days=30*i) for i in range(180)]\n",
    "\n",
    "# List of 42 countries\n",
    "countries = [\n",
    "    'Tunisia', 'France', 'Canada', 'USA', 'Italy', 'Germany', 'UK', 'Spain', \n",
    "    'Belgium', 'Netherlands', 'Morocco', 'Algeria', 'Libya', 'Japan', 'China',\n",
    "    'Australia', 'UAE', 'Saudi Arabia', 'Qatar', 'Kuwait', 'Egypt', 'Jordan',\n",
    "    'Lebanon', 'Turkey', 'Greece', 'Portugal', 'Sweden', 'Norway', 'Denmark',\n",
    "    'Austria', 'Switzerland', 'Poland', 'Czech Republic', 'Hungary', 'Romania',\n",
    "    'South Africa', 'Brazil', 'Mexico', 'Argentina', 'Chile', 'Peru', 'Colombia'\n",
    "]\n",
    "\n",
    "# Season function\n",
    "def get_season(month):\n",
    "    if month in [3, 4]: return 'Ramadan'\n",
    "    elif month in [6, 7, 8]: return 'Summer'\n",
    "    elif month in [12, 1, 2]: return 'Winter'\n",
    "    else: return 'Spring'\n",
    "\n",
    "# Create dataset\n",
    "print(\"🚀 Creating dataset...\")\n",
    "data = []\n",
    "for country in countries:\n",
    "    for i in range(57):\n",
    "        temp_dates = dates.copy()\n",
    "        random.shuffle(temp_dates)\n",
    "        for date in temp_dates:\n",
    "            row = {\n",
    "                'Date': date.strftime('%Y-%m-%d'),\n",
    "                'Country': country,\n",
    "                'Production_Tons': random.randint(150000, 350000),\n",
    "                'Export_Tons': random.randint(5000, 80000),\n",
    "                'USD_Price': round(random.uniform(5.5, 18.5), 2),\n",
    "                'Month': date.month,\n",
    "                'Year': date.year,\n",
    "                'Season': get_season(date.month)\n",
    "            }\n",
    "            data.append(row)\n",
    "\n",
    "df = pd.DataFrame(data)\n",
    "df = df.sample(frac=1).reset_index(drop=True)\n",
    "\n",
    "# Create directories if not exist\n",
    "os.makedirs('../data/raw', exist_ok=True)\n",
    "\n",
    "# Save to project structure\n",
    "df.to_csv('../data/raw/tunisia_olive_oil_dataset.csv', index=False)\n",
    "\n",
    "print(f\"✅ Dataset ready: {len(df):,} rows\")\n",
    "print(f\"✅ Countries: {df['Country'].nunique()}\")\n",
    "print(\"\\n📊 First 5 rows:\")\n",
    "print(df[['Date', 'Country', 'Export_Tons', 'USD_Price', 'Season']].head())\n",
    "print(f\"\\n💾 File saved: ../data/raw/tunisia_olive_oil_dataset.csv\")"
   ]
  },
  {
   "cell_type": "code",
   "execution_count": 2,
   "id": "38203b91",
   "metadata": {},
   "outputs": [
    {
     "name": "stdout",
     "output_type": "stream",
     "text": [
      "\n",
      "🎉 All done!\n"
     ]
    }
   ],
   "source": [
    "print(\"\\n🎉 All done!\")"
   ]
  },
  {
   "cell_type": "code",
   "execution_count": null,
   "id": "8bc5393b",
   "metadata": {},
   "outputs": [],
   "source": []
  }
 ],
 "metadata": {
  "kernelspec": {
   "display_name": ".venv",
   "language": "python",
   "name": "python3"
  },
  "language_info": {
   "codemirror_mode": {
    "name": "ipython",
    "version": 3
   },
   "file_extension": ".py",
   "mimetype": "text/x-python",
   "name": "python",
   "nbconvert_exporter": "python",
   "pygments_lexer": "ipython3",
   "version": "3.13.9"
  }
 },
 "nbformat": 4,
 "nbformat_minor": 5
}
